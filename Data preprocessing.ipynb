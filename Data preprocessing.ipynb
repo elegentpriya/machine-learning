{
 "cells": [
  {
   "cell_type": "code",
   "execution_count": 1,
   "id": "44556ed3",
   "metadata": {},
   "outputs": [],
   "source": [
    "import pandas as pd"
   ]
  },
  {
   "cell_type": "markdown",
   "id": "1a0df825",
   "metadata": {},
   "source": [
    "### Data Exploration"
   ]
  },
  {
   "cell_type": "code",
   "execution_count": 2,
   "id": "29982e0f",
   "metadata": {},
   "outputs": [],
   "source": [
    "data = pd.read_csv(\"C:\\\\Users\\\\hp\\\\Downloads\\\\Employee.csv\")"
   ]
  },
  {
   "cell_type": "code",
   "execution_count": 3,
   "id": "0ca84bab",
   "metadata": {},
   "outputs": [
    {
     "name": "stdout",
     "output_type": "stream",
     "text": [
      "     Company   Age  Salary     Place Country  Gender\n",
      "0        TCS  20.0     NaN   Chennai   India       0\n",
      "1    Infosys  30.0     NaN    Mumbai   India       0\n",
      "2        TCS  35.0  2300.0  Calcutta   India       0\n",
      "3    Infosys  40.0  3000.0     Delhi   India       0\n",
      "4        TCS  23.0  4000.0    Mumbai   India       0\n",
      "..       ...   ...     ...       ...     ...     ...\n",
      "143      TCS  33.0  9024.0  Calcutta   India       1\n",
      "144  Infosys  22.0  8787.0  Calcutta   India       1\n",
      "145  Infosys  44.0  4034.0     Delhi   India       1\n",
      "146      TCS  33.0  5034.0    Mumbai   India       1\n",
      "147  Infosys  22.0  8202.0    Cochin   India       0\n",
      "\n",
      "[148 rows x 6 columns]\n"
     ]
    }
   ],
   "source": [
    "print(data)"
   ]
  },
  {
   "cell_type": "markdown",
   "id": "cd1ef307",
   "metadata": {},
   "source": [
    "#### Unique Values and Lengths"
   ]
  },
  {
   "cell_type": "code",
   "execution_count": 4,
   "id": "766c5c2d",
   "metadata": {},
   "outputs": [
    {
     "name": "stdout",
     "output_type": "stream",
     "text": [
      "Unique Values:\n",
      "Company     6\n",
      "Age        29\n",
      "Salary     40\n",
      "Place      11\n",
      "Country     1\n",
      "Gender      2\n",
      "dtype: int64\n"
     ]
    }
   ],
   "source": [
    "unique_values = data.nunique()\n",
    "print(\"Unique Values:\")\n",
    "print(unique_values)"
   ]
  },
  {
   "cell_type": "markdown",
   "id": "3eab2393",
   "metadata": {},
   "source": [
    "#### Statistical analysis"
   ]
  },
  {
   "cell_type": "code",
   "execution_count": 6,
   "id": "ffa88a1d",
   "metadata": {},
   "outputs": [
    {
     "name": "stdout",
     "output_type": "stream",
     "text": [
      "\n",
      "Statistical Summary:\n",
      "              Age       Salary      Gender\n",
      "count  130.000000   124.000000  148.000000\n",
      "mean    30.484615  5312.467742    0.222973\n",
      "std     11.096640  2573.764683    0.417654\n",
      "min      0.000000  1089.000000    0.000000\n",
      "25%     22.000000  3030.000000    0.000000\n",
      "50%     32.500000  5000.000000    0.000000\n",
      "75%     37.750000  8000.000000    0.000000\n",
      "max     54.000000  9876.000000    1.000000\n"
     ]
    }
   ],
   "source": [
    "stat_summary = data.describe()\n",
    "print(\"\\nStatistical Summary:\")\n",
    "print(stat_summary)"
   ]
  },
  {
   "cell_type": "markdown",
   "id": "117328ec",
   "metadata": {},
   "source": [
    "### Data Cleaning"
   ]
  },
  {
   "cell_type": "markdown",
   "id": "40d74f5a",
   "metadata": {},
   "source": [
    "#### Replace 0 in Age with NaN"
   ]
  },
  {
   "cell_type": "code",
   "execution_count": 7,
   "id": "ee4b5be1",
   "metadata": {},
   "outputs": [],
   "source": [
    "data['Age'].replace(0, pd.NA, inplace=True)"
   ]
  },
  {
   "cell_type": "markdown",
   "id": "0c3737f2",
   "metadata": {},
   "source": [
    "#### Treat missing values"
   ]
  },
  {
   "cell_type": "code",
   "execution_count": 9,
   "id": "417c55da",
   "metadata": {},
   "outputs": [],
   "source": [
    "data.fillna({\"Age\": data['Age'].median(), 'Salary': data['Salary'].mean()}, inplace=True)"
   ]
  },
  {
   "cell_type": "markdown",
   "id": "1667dc87",
   "metadata": {},
   "source": [
    "#### Remove duplicates"
   ]
  },
  {
   "cell_type": "code",
   "execution_count": 10,
   "id": "b6ef7474",
   "metadata": {},
   "outputs": [],
   "source": [
    "data.drop_duplicates(inplace=True)"
   ]
  },
  {
   "cell_type": "markdown",
   "id": "880873bd",
   "metadata": {},
   "source": [
    "#### Outlier treatment"
   ]
  },
  {
   "cell_type": "code",
   "execution_count": 12,
   "id": "12cb70a7",
   "metadata": {
    "scrolled": true
   },
   "outputs": [
    {
     "name": "stdout",
     "output_type": "stream",
     "text": [
      "Requirement already satisfied: scipy in c:\\users\\hp\\appdata\\local\\programs\\python\\python311\\lib\\site-packages (1.11.1)\n",
      "Requirement already satisfied: numpy<1.28.0,>=1.21.6 in c:\\users\\hp\\appdata\\local\\programs\\python\\python311\\lib\\site-packages (from scipy) (1.25.0)\n",
      "Note: you may need to restart the kernel to use updated packages.\n"
     ]
    },
    {
     "name": "stderr",
     "output_type": "stream",
     "text": [
      "\n",
      "[notice] A new release of pip available: 22.3.1 -> 23.2.1\n",
      "[notice] To update, run: python.exe -m pip install --upgrade pip\n"
     ]
    }
   ],
   "source": [
    "pip install scipy"
   ]
  },
  {
   "cell_type": "code",
   "execution_count": 13,
   "id": "3ae4376f",
   "metadata": {},
   "outputs": [],
   "source": [
    "from scipy import stats"
   ]
  },
  {
   "cell_type": "code",
   "execution_count": 15,
   "id": "3861f8ba",
   "metadata": {},
   "outputs": [],
   "source": [
    "z_scores = stats.zscore(data['Salary'])\n",
    "data = data[(z_scores < 3)]"
   ]
  },
  {
   "cell_type": "markdown",
   "id": "5d77c8ec",
   "metadata": {},
   "source": [
    "### Data Analysis"
   ]
  },
  {
   "cell_type": "code",
   "execution_count": 16,
   "id": "80f95212",
   "metadata": {},
   "outputs": [],
   "source": [
    "filtered_data = data[(data['Age'] > 40) & (data['Salary'] < 5000)]"
   ]
  },
  {
   "cell_type": "code",
   "execution_count": 17,
   "id": "8eb83335",
   "metadata": {},
   "outputs": [],
   "source": [
    "import matplotlib.pyplot as plt"
   ]
  },
  {
   "cell_type": "code",
   "execution_count": 18,
   "id": "f10d9f7f",
   "metadata": {},
   "outputs": [
    {
     "data": {
      "image/png": "[encoded data removed]",
      "text/plain": [
       "<Figure size 640x480 with 1 Axes>"
      ]
     },
     "metadata": {},
     "output_type": "display_data"
    }
   ],
   "source": [
    "plt.scatter(filtered_data['Age'], filtered_data['Salary'])\n",
    "plt.xlabel('Age')\n",
    "plt.ylabel('Salary')\n",
    "plt.title('Age vs. salary')\n",
    "plt.show()"
   ]
  },
  {
   "cell_type": "code",
   "execution_count": 19,
   "id": "ef7861a0",
   "metadata": {},
   "outputs": [
    {
     "data": {
      "image/png": "[encoded data removed]",
      "text/plain": [
       "<Figure size 640x480 with 1 Axes>"
      ]
     },
     "metadata": {},
     "output_type": "display_data"
    }
   ],
   "source": [
    "place_counts = filtered_data['Place'].value_counts()\n",
    "place_counts.plot(kind = 'bar', title = 'Number of people by place')\n",
    "plt.xlabel('Place')\n",
    "plt.ylabel('Count')\n",
    "plt.show()"
   ]
  },
  {
   "cell_type": "markdown",
   "id": "00aa28f7",
   "metadata": {},
   "source": [
    "### Data encoding"
   ]
  },
  {
   "cell_type": "code",
   "execution_count": 20,
   "id": "294d51e8",
   "metadata": {},
   "outputs": [],
   "source": [
    "encoded_data = pd.get_dummies(filtered_data, columns=['Gender', 'Country'],prefix=['Gender', 'Country'])"
   ]
  },
  {
   "cell_type": "markdown",
   "id": "14ceb37b",
   "metadata": {},
   "source": [
    "### Feature scaling"
   ]
  },
  {
   "cell_type": "code",
   "execution_count": 22,
   "id": "bbe79b05",
   "metadata": {},
   "outputs": [],
   "source": [
    "from sklearn.preprocessing import StandardScaler, MinMaxScaler"
   ]
  },
  {
   "cell_type": "code",
   "execution_count": 23,
   "id": "61b0fc4c",
   "metadata": {},
   "outputs": [],
   "source": [
    "scaler = StandardScaler()\n",
    "scaled_data_standard = scaler.fit_transform(encoded_data[['Age', 'Salary']])"
   ]
  },
  {
   "cell_type": "code",
   "execution_count": 26,
   "id": "8ccfa147",
   "metadata": {},
   "outputs": [],
   "source": [
    "minmax_scaler = MinMaxScaler()\n",
    "scaled_data_minmax = minmax_scaler.fit_transform(encoded_data[['Age', 'Salary']])"
   ]
  },
  {
   "cell_type": "code",
   "execution_count": null,
   "id": "bfbd502b",
   "metadata": {},
   "outputs": [],
   "source": []
  }
 ],
 "metadata": {
  "kernelspec": {
   "display_name": "Python 3 (ipykernel)",
   "language": "python",
   "name": "python3"
  },
  "language_info": {
   "codemirror_mode": {
    "name": "ipython",
    "version": 3
   },
   "file_extension": ".py",
   "mimetype": "text/x-python",
   "name": "python",
   "nbconvert_exporter": "python",
   "pygments_lexer": "ipython3",
   "version": "3.11.2"
  }
 },
 "nbformat": 4,
 "nbformat_minor": 5
}
