{
 "cells": [
  {
   "cell_type": "code",
   "execution_count": 1,
   "id": "d871995d",
   "metadata": {},
   "outputs": [],
   "source": [
    "import scipy.stats as stats"
   ]
  },
  {
   "cell_type": "markdown",
   "id": "9e8071a7",
   "metadata": {},
   "source": [
    "### 1.Suppose a child psychologist says that the average time that working mothers spend talking to their children is at-least 11 minutes per day. You want to test .You conduct a random sample of 1000 working mothers and find they spend an average of 11.5 minutes per day talking with their children. Assume prior research suggests the population standard deviation is 2.3 minutes.Conduct test with a level of significance of alpha=0.05"
   ]
  },
  {
   "cell_type": "code",
   "execution_count": 2,
   "id": "984f8a8f",
   "metadata": {},
   "outputs": [
    {
     "name": "stdout",
     "output_type": "stream",
     "text": [
      "Reject the null hypothesis\n"
     ]
    }
   ],
   "source": [
    "sample_mean = 11.5\n",
    "population_stddev =2.3\n",
    "sample_size = 1000\n",
    "alpha = 0.05\n",
    "hypothesized_mean = 11\n",
    "z =(sample_mean - hypothesized_mean) / (population_stddev / (sample_size ** 0.5))\n",
    "critical_z = stats.norm.ppf(1 - alpha)\n",
    "if z > critical_z:\n",
    "    print(\"Reject the null hypothesis\")\n",
    "else:\n",
    "    print(\"Fail to reject the null hypothesis\")"
   ]
  },
  {
   "cell_type": "markdown",
   "id": "70c5fff0",
   "metadata": {},
   "source": [
    "### 2.A coffee shop claims that their average wait time for customers is less than 5 minutes. To test this claim, a sample of 40 customers is taken, and their wait times are recorded. The sample mean wait time is found to be 4.6 minutes with a standard deviation of 0.8 minutes. Perform a hypothesis test at a significance level of 0.05 and determine whether there is enough evidence to support the coffee shop's claim.\n"
   ]
  },
  {
   "cell_type": "code",
   "execution_count": 5,
   "id": "9f44aef0",
   "metadata": {},
   "outputs": [
    {
     "name": "stdout",
     "output_type": "stream",
     "text": [
      "Reject the null hypothesis\n"
     ]
    }
   ],
   "source": [
    "sample_mean = 4.6\n",
    "sample_stddev = 0.8\n",
    "sample_size = 40\n",
    "alpha = 0.05\n",
    "hypothesized_mean = 5\n",
    "t = (sample_mean - hypothesized_mean) / (sample_stddev / (sample_size ** 0.5))\n",
    "degrees_of_freedom = sample_size - 1\n",
    "critical_t = stats.t.ppf(1 - alpha, df= degrees_of_freedom)\n",
    "if t < critical_t:\n",
    "    print(\"Reject the null hypothesis\")\n",
    "else:\n",
    "    print(\"Fail to reject the null hypothesis\")"
   ]
  },
  {
   "cell_type": "code",
   "execution_count": null,
   "id": "6b3f8545",
   "metadata": {},
   "outputs": [],
   "source": []
  }
 ],
 "metadata": {
  "kernelspec": {
   "display_name": "Python 3 (ipykernel)",
   "language": "python",
   "name": "python3"
  },
  "language_info": {
   "codemirror_mode": {
    "name": "ipython",
    "version": 3
   },
   "file_extension": ".py",
   "mimetype": "text/x-python",
   "name": "python",
   "nbconvert_exporter": "python",
   "pygments_lexer": "ipython3",
   "version": "3.11.2"
  }
 },
 "nbformat": 4,
 "nbformat_minor": 5
}
